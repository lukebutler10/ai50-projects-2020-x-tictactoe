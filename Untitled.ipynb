{
 "cells": [
  {
   "cell_type": "code",
   "execution_count": 43,
   "metadata": {},
   "outputs": [],
   "source": [
    "\"\"\"\n",
    "Tic Tac Toe Player\n",
    "\"\"\"\n",
    "\n",
    "import math\n",
    "import copy #this is so we an create a deep copy of the game board\n",
    "\n",
    "X = \"X\"\n",
    "O = \"O\"\n",
    "EMPTY = None\n",
    "\n",
    "\n",
    "def initial_state():\n",
    "\t\"\"\"\n",
    "\tReturns starting state of the board.\n",
    "\t\"\"\"\n",
    "\treturn [[EMPTY, EMPTY, EMPTY],\n",
    "\t\t\t[EMPTY, EMPTY, EMPTY],\n",
    "\t\t\t[EMPTY, EMPTY, EMPTY]]\n",
    "\n",
    "\n",
    "\n"
   ]
  },
  {
   "cell_type": "code",
   "execution_count": 92,
   "metadata": {},
   "outputs": [],
   "source": [
    "def player(board):\n",
    "\t\"\"\"\n",
    "\tReturns player who has the next turn on a board.\n",
    "\t\"\"\"\n",
    "\ttot_x = 0\n",
    "\ttot_o = 0\n",
    "\tfor row in board:\n",
    "\t\ttot_x += row.count(X)\n",
    "\t\ttot_o +=row.count(O)\n",
    "\n",
    "\tif tot_x > tot_o:\n",
    "\t\treturn O\n",
    "\telse:\n",
    "\t\treturn X\n",
    "\n",
    "\n",
    "\t#NOTE!: I deleted 'raise NotImplementedError' here as I don't think it is needed (think it is a placeholder), but not 100% sure atm\n"
   ]
  },
  {
   "cell_type": "code",
   "execution_count": 96,
   "metadata": {},
   "outputs": [
    {
     "data": {
      "text/plain": [
       "'X'"
      ]
     },
     "execution_count": 96,
     "metadata": {},
     "output_type": "execute_result"
    }
   ],
   "source": [
    "player([[O,X,O],[O,X,X],[X,EMPTY,O]])"
   ]
  },
  {
   "cell_type": "code",
   "execution_count": 45,
   "metadata": {},
   "outputs": [],
   "source": [
    "def actions(board):\n",
    "\t\"\"\"\n",
    "\tReturns set of all possible actions (i, j) available on the board.\n",
    "\t\"\"\"\n",
    "\tif isinstance(board,list):\n",
    "\t\tpass\n",
    "\telse:\n",
    "\t\traise TypeError(\"Please input correct format for a board\") \n",
    "\tif len(board) != 3:\n",
    "\t\traise ValueError(\"The board should have 3 rows, so it's list should have length 3\") #not sure if these are right type of errors\n",
    "\n",
    "\n",
    "\n",
    "\tpossibles = set()\n",
    "\tfor row in range(3):        #note here that i denotes the row of board and j denotes the column\n",
    "\t\tfor column in range(3):\n",
    "\t\t\tif board[row][column] == None:\n",
    "\t\t\t\tpossibles.add((row,column))  #This may not work - it might literally add (i,j) to the set, not what i and j denote\n",
    "\n",
    "\treturn possibles"
   ]
  },
  {
   "cell_type": "code",
   "execution_count": 46,
   "metadata": {},
   "outputs": [],
   "source": [
    "def result(board, action):\n",
    "\t\"\"\"\n",
    "\tReturns the board that results from making move (i, j) on the board.\n",
    "\t\"\"\"\n",
    "\tif board[action[0]][action[1]] != EMPTY:\n",
    "\t\traise Exception(\"This space has already been taken - please choose another\")\n",
    "\n",
    "\tog = copy.deepcopy(board)\n",
    "\n",
    "\n",
    "\tog[action[0]][action[1]] = player(board)  #here, playerturn is the \"X\" or \"O\", whoevers turn it is\n",
    "\treturn og"
   ]
  },
  {
   "cell_type": "code",
   "execution_count": 47,
   "metadata": {},
   "outputs": [],
   "source": [
    "def winner(board):\n",
    "\tglobal winner\n",
    "\tfor mark in [X,O]:\n",
    "\t\tif board[0][0]==board[0][1]==board[0][2]== mark or board[1][0]==board[1][1]==board[1][2]==mark  or \\\n",
    "\t\tboard[2][0]==board[2][1]==board[2][2]== mark or board[0][0]==board[1][0]==board[2][0]== mark or \\\n",
    "\t\tboard[0][1]==board[1][1]==board[2][1]== mark or board[0][2]==board[1][2]==board[2][2]== mark or \\\n",
    "\t\tboard[0][0]==board[1][1]==board[2][2]==mark or board [0][2]==board[1][1]==board[2][0]==mark:\n",
    "\t\t\treturn mark\n",
    "\t\t#this function will automatically return 'None' if there is no winner\n",
    "\n",
    "\n"
   ]
  },
  {
   "cell_type": "code",
   "execution_count": 48,
   "metadata": {},
   "outputs": [],
   "source": [
    "def terminal(board):\n",
    "\t\"\"\"\n",
    "\tReturns True if game is over, False otherwise.\n",
    "\t\"\"\"\n",
    "\tglobal tie\n",
    "\tif winner(board) == X or winner(board) == O:\n",
    "\t\treturn True\n",
    "\telif board[0][0]!=None and board[0][1]!=None and board[0][2]!=None and board[1][0]!=None and board[1][1]!=None and \\\n",
    "\tboard[1][2]!=None and board[2][0]!=None and board[2][1]!=None and board[2][2]!=None:\n",
    "\t\treturn True\n",
    "\telse:\n",
    "\t\treturn False"
   ]
  },
  {
   "cell_type": "code",
   "execution_count": 49,
   "metadata": {},
   "outputs": [],
   "source": [
    "def utility(board):\n",
    "\t\"\"\"\n",
    "\tReturns 1 if X has won the game, -1 if O has won, 0 otherwise.\n",
    "\t\"\"\"\n",
    "\tif winner(board) == X:\n",
    "\t\treturn 1\n",
    "\telif winner(board) == O:\n",
    "\t\treturn -1\n",
    "\telse:\n",
    "\t\treturn 0"
   ]
  },
  {
   "cell_type": "code",
   "execution_count": 90,
   "metadata": {},
   "outputs": [],
   "source": [
    "\n",
    "ismax=True\n",
    "\n",
    "def alg(ismax, board):\n",
    "        if utility(board) != 0:\n",
    "            return utility(board)\n",
    "        elif terminal(board) == True:\n",
    "            return 0\n",
    "\n",
    "        scores = []\n",
    "        for possible in actions(board):\n",
    "            scores.append(alg(not ismax,result(board, possible)))\n",
    "\n",
    "        return max(scores) if ismax else min(scores)\n"
   ]
  },
  {
   "cell_type": "code",
   "execution_count": 71,
   "metadata": {},
   "outputs": [],
   "source": [
    "def minimax(board):\n",
    "    \"\"\"\n",
    "    Returns the optimal action for the current player on the board.\n",
    "    \"\"\"\n",
    "    bestscore = -10\n",
    "    bestmove = None\n",
    "    for possible in actions(board):\n",
    "        \n",
    "        if player(board) == X:\n",
    "            score = alg(ismax == True, result(board,possible))\n",
    "        else:\n",
    "            score = alg(ismax == False, result(board,possible))\n",
    "        if score > bestscore:\n",
    "            bestscore = score\n",
    "            bestmove = possible\n",
    "            \n",
    "    return bestmove"
   ]
  },
  {
   "cell_type": "code",
   "execution_count": 77,
   "metadata": {},
   "outputs": [
    {
     "name": "stdout",
     "output_type": "stream",
     "text": [
      "0\n"
     ]
    }
   ],
   "source": [
    "print(alg(ismax ==True,[[X,O,EMPTY],[X,X,O],[O,X,O]]))"
   ]
  },
  {
   "cell_type": "code",
   "execution_count": 87,
   "metadata": {},
   "outputs": [
    {
     "data": {
      "text/plain": [
       "-1"
      ]
     },
     "execution_count": 87,
     "metadata": {},
     "output_type": "execute_result"
    }
   ],
   "source": [
    "utility([[X,X,O],[O,O,O],[X,EMPTY,X]])"
   ]
  },
  {
   "cell_type": "code",
   "execution_count": 83,
   "metadata": {},
   "outputs": [],
   "source": [
    "x = True"
   ]
  },
  {
   "cell_type": "code",
   "execution_count": 84,
   "metadata": {},
   "outputs": [
    {
     "name": "stdout",
     "output_type": "stream",
     "text": [
      "False\n"
     ]
    }
   ],
   "source": [
    "print(not x)"
   ]
  },
  {
   "cell_type": "code",
   "execution_count": 91,
   "metadata": {},
   "outputs": [
    {
     "name": "stdout",
     "output_type": "stream",
     "text": [
      "1\n"
     ]
    }
   ],
   "source": [
    "print(alg(ismax ==False,[[EMPTY,X,O],[O,X,X],[X,EMPTY,O]]))"
   ]
  },
  {
   "cell_type": "code",
   "execution_count": 97,
   "metadata": {},
   "outputs": [
    {
     "ename": "TabError",
     "evalue": "inconsistent use of tabs and spaces in indentation (<ipython-input-97-21cd0a9ded21>, line 18)",
     "output_type": "error",
     "traceback": [
      "\u001b[1;36m  File \u001b[1;32m\"<ipython-input-97-21cd0a9ded21>\"\u001b[1;36m, line \u001b[1;32m18\u001b[0m\n\u001b[1;33m    if score < bestscore:\u001b[0m\n\u001b[1;37m                         ^\u001b[0m\n\u001b[1;31mTabError\u001b[0m\u001b[1;31m:\u001b[0m inconsistent use of tabs and spaces in indentation\n"
     ]
    }
   ],
   "source": [
    "def minimax(board):\n",
    "    \"\"\"\n",
    "    Returns the optimal action for the current player on the board.\n",
    "    \"\"\"\n",
    "    \n",
    "    bestmove = None\n",
    "    for possible in actions(board):\n",
    "        \n",
    "        if player(board) == X:\n",
    "            score = alg(ismax == True, result(board,possible))\n",
    "            bestscore = -10\n",
    "            if score > bestscore:\n",
    "            \tbestscore = score\n",
    "            \tbestmove = possible\n",
    "        else:\n",
    "            score = alg(ismax == False, result(board,possible))\n",
    "            bestscore = 10\n",
    "        \tif score < bestscore:\n",
    "                bestscore = score\n",
    "        \t\tbestmove = possible\n",
    "            \n",
    "    return bestmove\n"
   ]
  }
 ],
 "metadata": {
  "kernelspec": {
   "display_name": "Python 3",
   "language": "python",
   "name": "python3"
  },
  "language_info": {
   "codemirror_mode": {
    "name": "ipython",
    "version": 3
   },
   "file_extension": ".py",
   "mimetype": "text/x-python",
   "name": "python",
   "nbconvert_exporter": "python",
   "pygments_lexer": "ipython3",
   "version": "3.7.4"
  }
 },
 "nbformat": 4,
 "nbformat_minor": 2
}
